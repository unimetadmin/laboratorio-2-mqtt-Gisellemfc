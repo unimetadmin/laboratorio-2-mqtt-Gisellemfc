{
 "cells": [
  {
   "cell_type": "code",
   "execution_count": 1,
   "metadata": {},
   "outputs": [],
   "source": [
    "from jupyter_dash import JupyterDash\n",
    "import dash_core_components as dcc\n",
    "import dash_html_components as html\n",
    "from plotly.subplots import make_subplots\n",
    "import plotly.graph_objects as go\n",
    "from dash.dependencies import (Input, Output)\n",
    "import plotly.graph_objs as go\n",
    "\n",
    "import pandas as pd\n",
    "import time\n",
    "import os\n",
    "import psycopg2\n",
    "import db_script\n",
    "\n",
    "connection = db_script.connection()"
   ]
  },
  {
   "cell_type": "code",
   "execution_count": 2,
   "metadata": {},
   "outputs": [],
   "source": [
    "app = JupyterDash(__name__)"
   ]
  },
  {
   "cell_type": "code",
   "execution_count": 3,
   "metadata": {
    "scrolled": false
   },
   "outputs": [
    {
     "data": {
      "text/html": [
       "\n",
       "        <iframe\n",
       "            width=\"100%\"\n",
       "            height=\"650\"\n",
       "            src=\"http://127.0.0.1:8080/\"\n",
       "            frameborder=\"0\"\n",
       "            allowfullscreen\n",
       "        ></iframe>\n",
       "        "
      ],
      "text/plain": [
       "<IPython.lib.display.IFrame at 0x1327ad384c0>"
      ]
     },
     "metadata": {},
     "output_type": "display_data"
    }
   ],
   "source": [
    "app.layout = html.Div([\n",
    "    dcc.Graph(id='nevera_live'),\n",
    "    dcc.Interval(id='output-update', interval=0.5 * 1000)\n",
    "])\n",
    "\n",
    "@app.callback(\n",
    "    Output(component_id='nevera_live', component_property='figure'),\n",
    "    [Input(component_id='output-update', component_property='n_intervals')]\n",
    ")\n",
    "\n",
    "\n",
    "def get_live_updates(n_intervals):\n",
    "    query = \"\"\"SELECT fecha_temperatura, temperatura_nevera FROM public.cocina_nevera_temperatura ORDER BY id DESC LIMIT 40;\"\"\"\n",
    "    dataframe = pd.read_sql_query(query, connection)\n",
    "    \n",
    "    x_temperatura = dataframe['fecha_temperatura'].to_list()\n",
    "    y_temperatura =dataframe['temperatura_nevera'].to_list()\n",
    "    \n",
    "    x_temperatura.reverse()\n",
    "    y_temperatura.reverse()\n",
    "\n",
    "    query = \"\"\"SELECT fecha_hielo, hielo FROM public.cocina_nevera_hielo ORDER BY id DESC LIMIT 20;\"\"\"\n",
    "    dataframe = pd.read_sql_query(query, connection)\n",
    "    \n",
    "    x_hielo = dataframe['fecha_hielo'].to_list()\n",
    "    y_hielo =dataframe['hielo'].to_list()\n",
    "    \n",
    "    x_hielo.reverse()\n",
    "    y_hielo.reverse()\n",
    "    \n",
    "    data1 = go.Scatter(\n",
    "        x=x_temperatura, \n",
    "        y=y_temperatura, \n",
    "        mode='lines+markers',\n",
    "        name=\"Temperatura\"\n",
    "    )\n",
    "    \n",
    "    data2 = go.Scatter(\n",
    "        x=x_hielo, \n",
    "        y=y_hielo, \n",
    "        mode='lines+markers',\n",
    "        name=\"Hielo producido\"\n",
    "    )\n",
    "\n",
    "    layout = go.Layout(\n",
    "        autosize=False,\n",
    "        width=900,\n",
    "        height=500,\n",
    "        margin=dict(l=60, r=20, t=40, b=60),\n",
    "        plot_bgcolor='#EFE6DD',\n",
    "        title=\"Nevera\",\n",
    "        xaxis_title=\"Fecha\",\n",
    "        yaxis_title=\"Valor\",\n",
    "        font=dict(\n",
    "            family=\"Courier New, monospace\",\n",
    "            size=14,\n",
    "            color=\"#231F20\"\n",
    "        )\n",
    "    )\n",
    "             \n",
    "    fig = {'data' : [data1, data2], 'layout' : layout}\n",
    "             \n",
    "    return fig\n",
    "\n",
    "app.run_server(mode='inline', debug=True, port=8080)"
   ]
  },
  {
   "cell_type": "code",
   "execution_count": 4,
   "metadata": {},
   "outputs": [
    {
     "data": {
      "text/html": [
       "\n",
       "        <iframe\n",
       "            width=\"100%\"\n",
       "            height=\"650\"\n",
       "            src=\"http://127.0.0.1:8080/\"\n",
       "            frameborder=\"0\"\n",
       "            allowfullscreen\n",
       "        ></iframe>\n",
       "        "
      ],
      "text/plain": [
       "<IPython.lib.display.IFrame at 0x1327ace5d00>"
      ]
     },
     "metadata": {},
     "output_type": "display_data"
    }
   ],
   "source": [
    "app.layout = html.Div([\n",
    "    dcc.Graph(id='olla_live'),\n",
    "    dcc.Interval(id='output-update', interval=0.5 * 1000)\n",
    "])\n",
    "\n",
    "@app.callback(\n",
    "    Output(component_id='olla_live', component_property='figure'),\n",
    "    [Input(component_id='output-update', component_property='n_intervals')]\n",
    ")\n",
    "\n",
    "\n",
    "def get_live_updates(n_intervals):\n",
    "    query = \"\"\"SELECT fecha_temperatura, temperatura FROM public.cocina_olla ORDER BY id DESC LIMIT 20;\"\"\"\n",
    "    dataframe = pd.read_sql_query(query, connection)\n",
    "    \n",
    "    x = dataframe['fecha_temperatura'].to_list()\n",
    "    y =dataframe['temperatura'].to_list()\n",
    "    \n",
    "    x.reverse()\n",
    "    y.reverse()\n",
    "    \n",
    "    data1 = go.Scatter(\n",
    "        x=x, \n",
    "        y=y, \n",
    "        mode='lines+markers',\n",
    "        name=\"Temperatura\"\n",
    "    )\n",
    "\n",
    "    layout = go.Layout(\n",
    "        autosize=False,\n",
    "        width=900,\n",
    "        height=500,\n",
    "        margin=dict(l=60, r=20, t=40, b=60),\n",
    "        plot_bgcolor='#EFE6DD',\n",
    "        title=\"Olla\",\n",
    "        xaxis_title=\"Fecha\",\n",
    "        yaxis_title=\"Temperatura\",\n",
    "        font=dict(\n",
    "            family=\"Courier New, monospace\",\n",
    "            size=14,\n",
    "            color=\"#231F20\"\n",
    "        )\n",
    "    )\n",
    "             \n",
    "    fig = {'data' : [data1], 'layout' : layout}\n",
    "             \n",
    "    return fig\n",
    "\n",
    "app.run_server(mode='inline', debug=True, port=8080)"
   ]
  },
  {
   "cell_type": "code",
   "execution_count": 5,
   "metadata": {},
   "outputs": [
    {
     "data": {
      "text/html": [
       "\n",
       "        <iframe\n",
       "            width=\"100%\"\n",
       "            height=\"650\"\n",
       "            src=\"http://127.0.0.1:8080/\"\n",
       "            frameborder=\"0\"\n",
       "            allowfullscreen\n",
       "        ></iframe>\n",
       "        "
      ],
      "text/plain": [
       "<IPython.lib.display.IFrame at 0x1327b3ebc40>"
      ]
     },
     "metadata": {},
     "output_type": "display_data"
    }
   ],
   "source": [
    "app.layout = html.Div([\n",
    "    dcc.Graph(id='contador_live'),\n",
    "    dcc.Interval(id='output-update', interval=0.5 * 1000)\n",
    "])\n",
    "\n",
    "@app.callback(\n",
    "    Output(component_id='contador_live', component_property='figure'),\n",
    "    [Input(component_id='output-update', component_property='n_intervals')]\n",
    ")\n",
    "\n",
    "\n",
    "def get_live_updates(n_intervals):\n",
    "    query = \"\"\"SELECT fecha_conteo, cantidad_personas FROM public.sala_contador_personas ORDER BY id DESC LIMIT 20;\"\"\"\n",
    "    dataframe = pd.read_sql_query(query, connection)\n",
    "    \n",
    "    x = dataframe['fecha_conteo'].to_list()\n",
    "    y =dataframe['cantidad_personas'].to_list()\n",
    "    \n",
    "    x.reverse()\n",
    "    y.reverse()\n",
    "    \n",
    "    data1 = go.Scatter(\n",
    "        x=x, \n",
    "        y=y, \n",
    "        mode='lines+markers',\n",
    "        name=\"Cantidad de Personas\"\n",
    "    )\n",
    "\n",
    "    layout = go.Layout(\n",
    "        autosize=False,\n",
    "        width=900,\n",
    "        height=500,\n",
    "        margin=dict(l=60, r=20, t=40, b=60),\n",
    "        plot_bgcolor='#EFE6DD',\n",
    "        title=\"Contador de Personas\",\n",
    "        xaxis_title=\"Fecha\",\n",
    "        yaxis_title=\"Cantidad de personas\",\n",
    "        font=dict(\n",
    "            family=\"Courier New, monospace\",\n",
    "            size=14,\n",
    "            color=\"#231F20\"\n",
    "        )\n",
    "    )\n",
    "             \n",
    "    fig = {'data' : [data1], 'layout' : layout}\n",
    "             \n",
    "    return fig\n",
    "\n",
    "app.run_server(mode='inline', debug=True, port=8080)"
   ]
  },
  {
   "cell_type": "code",
   "execution_count": 6,
   "metadata": {},
   "outputs": [
    {
     "data": {
      "text/html": [
       "\n",
       "        <iframe\n",
       "            width=\"100%\"\n",
       "            height=\"650\"\n",
       "            src=\"http://127.0.0.1:8080/\"\n",
       "            frameborder=\"0\"\n",
       "            allowfullscreen\n",
       "        ></iframe>\n",
       "        "
      ],
      "text/plain": [
       "<IPython.lib.display.IFrame at 0x13277f47070>"
      ]
     },
     "metadata": {},
     "output_type": "display_data"
    }
   ],
   "source": [
    "app.layout = html.Div([\n",
    "    dcc.Graph(id='alexa_live'),\n",
    "    dcc.Interval(id='output-update', interval=0.5 * 1000)\n",
    "])\n",
    "\n",
    "@app.callback(\n",
    "    Output(component_id='alexa_live', component_property='figure'),\n",
    "    [Input(component_id='output-update', component_property='n_intervals')]\n",
    ")\n",
    "\n",
    "\n",
    "def get_live_updates(n_intervals):\n",
    "    query = \"\"\"SELECT fecha_alexa, temperatura_caracas FROM public.sala_alexa_echo ORDER BY id DESC LIMIT 20;\"\"\"\n",
    "    dataframe = pd.read_sql_query(query, connection)\n",
    "    \n",
    "    x = dataframe['fecha_alexa'].to_list()\n",
    "    y =dataframe['temperatura_caracas'].to_list()\n",
    "    \n",
    "    x.reverse()\n",
    "    y.reverse()\n",
    "    \n",
    "    data1 = go.Scatter(\n",
    "        x=x, \n",
    "        y=y, \n",
    "        mode='lines+markers',\n",
    "        name=\"Temperatura de Caracas\"\n",
    "    )\n",
    "\n",
    "    layout = go.Layout(\n",
    "        autosize=False,\n",
    "        width=900,\n",
    "        height=500,\n",
    "        margin=dict(l=60, r=20, t=40, b=60),\n",
    "        plot_bgcolor='#EFE6DD',\n",
    "        title=\"Alexa Echo\",\n",
    "        xaxis_title=\"Fecha\",\n",
    "        yaxis_title=\"Temperatura\",\n",
    "        font=dict(\n",
    "            family=\"Courier New, monospace\",\n",
    "            size=14,\n",
    "            color=\"#231F20\"\n",
    "        )\n",
    "    )\n",
    "             \n",
    "    fig = {'data' : [data1], 'layout' : layout}\n",
    "             \n",
    "    return fig\n",
    "\n",
    "app.run_server(mode='inline', debug=True, port=8080)"
   ]
  },
  {
   "cell_type": "code",
   "execution_count": 7,
   "metadata": {},
   "outputs": [
    {
     "data": {
      "text/html": [
       "\n",
       "        <iframe\n",
       "            width=\"100%\"\n",
       "            height=\"650\"\n",
       "            src=\"http://127.0.0.1:8080/\"\n",
       "            frameborder=\"0\"\n",
       "            allowfullscreen\n",
       "        ></iframe>\n",
       "        "
      ],
      "text/plain": [
       "<IPython.lib.display.IFrame at 0x1327b427970>"
      ]
     },
     "metadata": {},
     "output_type": "display_data"
    }
   ],
   "source": [
    "app.layout = html.Div([\n",
    "    dcc.Graph(id='tanque_live'),\n",
    "    dcc.Interval(id='output-update', interval=0.5 * 1000)\n",
    "])\n",
    "\n",
    "@app.callback(\n",
    "    Output(component_id='tanque_live', component_property='figure'),\n",
    "    [Input(component_id='output-update', component_property='n_intervals')]\n",
    ")\n",
    "\n",
    "\n",
    "def get_live_updates(n_intervals):\n",
    "    query = \"\"\"SELECT fecha_medicion, agua_disponible FROM public.bano_tanque ORDER BY id DESC LIMIT 20;\"\"\"\n",
    "    dataframe = pd.read_sql_query(query, connection)\n",
    "    \n",
    "    x = dataframe['fecha_medicion'].to_list()\n",
    "    y =dataframe['agua_disponible'].to_list()\n",
    "    \n",
    "    x.reverse()\n",
    "    y.reverse()\n",
    "    \n",
    "    data1 = go.Scatter(\n",
    "        x=x, \n",
    "        y=y, \n",
    "        mode='lines+markers',\n",
    "        name=\"Agua Disponible\"\n",
    "    )\n",
    "\n",
    "    layout = go.Layout(\n",
    "        autosize=False,\n",
    "        width=900,\n",
    "        height=500,\n",
    "        margin=dict(l=60, r=20, t=40, b=60),\n",
    "        plot_bgcolor='#EFE6DD',\n",
    "        title=\"Tanque de Agua\",\n",
    "        xaxis_title=\"Fecha\",\n",
    "        yaxis_title=\"Porcentaje de agua\",\n",
    "        font=dict(\n",
    "            family=\"Courier New, monospace\",\n",
    "            size=14,\n",
    "            color=\"#231F20\"\n",
    "        )\n",
    "    )\n",
    "             \n",
    "    fig = {'data' : [data1], 'layout' : layout}\n",
    "             \n",
    "    return fig\n",
    "\n",
    "app.run_server(mode='inline', debug=True, port=8080)"
   ]
  },
  {
   "cell_type": "code",
   "execution_count": null,
   "metadata": {},
   "outputs": [],
   "source": []
  }
 ],
 "metadata": {
  "kernelspec": {
   "display_name": "Python 3",
   "language": "python",
   "name": "python3"
  },
  "language_info": {
   "codemirror_mode": {
    "name": "ipython",
    "version": 3
   },
   "file_extension": ".py",
   "mimetype": "text/x-python",
   "name": "python",
   "nbconvert_exporter": "python",
   "pygments_lexer": "ipython3",
   "version": "3.8.5"
  }
 },
 "nbformat": 4,
 "nbformat_minor": 4
}
